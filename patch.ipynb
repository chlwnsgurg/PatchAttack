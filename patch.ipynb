{
 "cells": [
  {
   "cell_type": "markdown",
   "metadata": {},
   "source": [
    "본 코드는  GTSRB 데이터에 대하여 Adversarial Patch를 생성하는 과정과 결과를 보여준다"
   ]
  },
  {
   "cell_type": "markdown",
   "metadata": {},
   "source": [
    "# Dependencies and Imports"
   ]
  },
  {
   "cell_type": "code",
   "execution_count": 24,
   "metadata": {},
   "outputs": [],
   "source": [
    "# Install requirements\n",
    "# %pip install\n",
    "\n",
    "# Create a directory to store our results\n",
    "# %mkdir "
   ]
  },
  {
   "cell_type": "code",
   "execution_count": 25,
   "metadata": {},
   "outputs": [],
   "source": [
    "import os\n",
    "import time\n",
    "\n",
    "import torch\n",
    "import torch.nn as nn\n",
    "from torch.autograd import Variable\n",
    "import torch.utils.data as data\n",
    "from torch.utils.data import DataLoader\n",
    "from torch.utils.data.sampler import SubsetRandomSampler\n",
    "\n",
    "import torchvision\n",
    "from torchvision import transforms\n",
    "from torchvision import models\n",
    "import torchvision.datasets as dsets\n",
    "\n",
    "import numpy as np\n",
    "import csv\n",
    "import matplotlib.pyplot as plt\n",
    "from PIL import Image"
   ]
  },
  {
   "cell_type": "markdown",
   "metadata": {},
   "source": [
    "# Display Utils"
   ]
  },
  {
   "cell_type": "code",
   "execution_count": 26,
   "metadata": {},
   "outputs": [],
   "source": [
    "# Functions to show an image\n",
    "def imshow(img, title):\n",
    "    img = torchvision.utils.make_grid(img.cpu().data).permute(1,2,0)\n",
    "    plt.imshow(img)\n",
    "    plt.title(title)\n",
    "    plt.show()"
   ]
  },
  {
   "cell_type": "markdown",
   "metadata": {},
   "source": [
    "# Load Model and Data"
   ]
  },
  {
   "cell_type": "code",
   "execution_count": 27,
   "metadata": {},
   "outputs": [
    {
     "data": {
      "text/plain": [
       "ResNet(\n",
       "  (conv1): Conv2d(3, 64, kernel_size=(7, 7), stride=(2, 2), padding=(3, 3), bias=False)\n",
       "  (bn1): BatchNorm2d(64, eps=1e-05, momentum=0.1, affine=True, track_running_stats=True)\n",
       "  (relu): ReLU(inplace=True)\n",
       "  (maxpool): MaxPool2d(kernel_size=3, stride=2, padding=1, dilation=1, ceil_mode=False)\n",
       "  (layer1): Sequential(\n",
       "    (0): BasicBlock(\n",
       "      (conv1): Conv2d(64, 64, kernel_size=(3, 3), stride=(1, 1), padding=(1, 1), bias=False)\n",
       "      (bn1): BatchNorm2d(64, eps=1e-05, momentum=0.1, affine=True, track_running_stats=True)\n",
       "      (relu): ReLU(inplace=True)\n",
       "      (conv2): Conv2d(64, 64, kernel_size=(3, 3), stride=(1, 1), padding=(1, 1), bias=False)\n",
       "      (bn2): BatchNorm2d(64, eps=1e-05, momentum=0.1, affine=True, track_running_stats=True)\n",
       "    )\n",
       "    (1): BasicBlock(\n",
       "      (conv1): Conv2d(64, 64, kernel_size=(3, 3), stride=(1, 1), padding=(1, 1), bias=False)\n",
       "      (bn1): BatchNorm2d(64, eps=1e-05, momentum=0.1, affine=True, track_running_stats=True)\n",
       "      (relu): ReLU(inplace=True)\n",
       "      (conv2): Conv2d(64, 64, kernel_size=(3, 3), stride=(1, 1), padding=(1, 1), bias=False)\n",
       "      (bn2): BatchNorm2d(64, eps=1e-05, momentum=0.1, affine=True, track_running_stats=True)\n",
       "    )\n",
       "  )\n",
       "  (layer2): Sequential(\n",
       "    (0): BasicBlock(\n",
       "      (conv1): Conv2d(64, 128, kernel_size=(3, 3), stride=(2, 2), padding=(1, 1), bias=False)\n",
       "      (bn1): BatchNorm2d(128, eps=1e-05, momentum=0.1, affine=True, track_running_stats=True)\n",
       "      (relu): ReLU(inplace=True)\n",
       "      (conv2): Conv2d(128, 128, kernel_size=(3, 3), stride=(1, 1), padding=(1, 1), bias=False)\n",
       "      (bn2): BatchNorm2d(128, eps=1e-05, momentum=0.1, affine=True, track_running_stats=True)\n",
       "      (downsample): Sequential(\n",
       "        (0): Conv2d(64, 128, kernel_size=(1, 1), stride=(2, 2), bias=False)\n",
       "        (1): BatchNorm2d(128, eps=1e-05, momentum=0.1, affine=True, track_running_stats=True)\n",
       "      )\n",
       "    )\n",
       "    (1): BasicBlock(\n",
       "      (conv1): Conv2d(128, 128, kernel_size=(3, 3), stride=(1, 1), padding=(1, 1), bias=False)\n",
       "      (bn1): BatchNorm2d(128, eps=1e-05, momentum=0.1, affine=True, track_running_stats=True)\n",
       "      (relu): ReLU(inplace=True)\n",
       "      (conv2): Conv2d(128, 128, kernel_size=(3, 3), stride=(1, 1), padding=(1, 1), bias=False)\n",
       "      (bn2): BatchNorm2d(128, eps=1e-05, momentum=0.1, affine=True, track_running_stats=True)\n",
       "    )\n",
       "  )\n",
       "  (layer3): Sequential(\n",
       "    (0): BasicBlock(\n",
       "      (conv1): Conv2d(128, 256, kernel_size=(3, 3), stride=(2, 2), padding=(1, 1), bias=False)\n",
       "      (bn1): BatchNorm2d(256, eps=1e-05, momentum=0.1, affine=True, track_running_stats=True)\n",
       "      (relu): ReLU(inplace=True)\n",
       "      (conv2): Conv2d(256, 256, kernel_size=(3, 3), stride=(1, 1), padding=(1, 1), bias=False)\n",
       "      (bn2): BatchNorm2d(256, eps=1e-05, momentum=0.1, affine=True, track_running_stats=True)\n",
       "      (downsample): Sequential(\n",
       "        (0): Conv2d(128, 256, kernel_size=(1, 1), stride=(2, 2), bias=False)\n",
       "        (1): BatchNorm2d(256, eps=1e-05, momentum=0.1, affine=True, track_running_stats=True)\n",
       "      )\n",
       "    )\n",
       "    (1): BasicBlock(\n",
       "      (conv1): Conv2d(256, 256, kernel_size=(3, 3), stride=(1, 1), padding=(1, 1), bias=False)\n",
       "      (bn1): BatchNorm2d(256, eps=1e-05, momentum=0.1, affine=True, track_running_stats=True)\n",
       "      (relu): ReLU(inplace=True)\n",
       "      (conv2): Conv2d(256, 256, kernel_size=(3, 3), stride=(1, 1), padding=(1, 1), bias=False)\n",
       "      (bn2): BatchNorm2d(256, eps=1e-05, momentum=0.1, affine=True, track_running_stats=True)\n",
       "    )\n",
       "  )\n",
       "  (layer4): Sequential(\n",
       "    (0): BasicBlock(\n",
       "      (conv1): Conv2d(256, 512, kernel_size=(3, 3), stride=(2, 2), padding=(1, 1), bias=False)\n",
       "      (bn1): BatchNorm2d(512, eps=1e-05, momentum=0.1, affine=True, track_running_stats=True)\n",
       "      (relu): ReLU(inplace=True)\n",
       "      (conv2): Conv2d(512, 512, kernel_size=(3, 3), stride=(1, 1), padding=(1, 1), bias=False)\n",
       "      (bn2): BatchNorm2d(512, eps=1e-05, momentum=0.1, affine=True, track_running_stats=True)\n",
       "      (downsample): Sequential(\n",
       "        (0): Conv2d(256, 512, kernel_size=(1, 1), stride=(2, 2), bias=False)\n",
       "        (1): BatchNorm2d(512, eps=1e-05, momentum=0.1, affine=True, track_running_stats=True)\n",
       "      )\n",
       "    )\n",
       "    (1): BasicBlock(\n",
       "      (conv1): Conv2d(512, 512, kernel_size=(3, 3), stride=(1, 1), padding=(1, 1), bias=False)\n",
       "      (bn1): BatchNorm2d(512, eps=1e-05, momentum=0.1, affine=True, track_running_stats=True)\n",
       "      (relu): ReLU(inplace=True)\n",
       "      (conv2): Conv2d(512, 512, kernel_size=(3, 3), stride=(1, 1), padding=(1, 1), bias=False)\n",
       "      (bn2): BatchNorm2d(512, eps=1e-05, momentum=0.1, affine=True, track_running_stats=True)\n",
       "    )\n",
       "  )\n",
       "  (avgpool): AdaptiveAvgPool2d(output_size=(1, 1))\n",
       "  (fc): Linear(in_features=512, out_features=43, bias=True)\n",
       ")"
      ]
     },
     "execution_count": 27,
     "metadata": {},
     "output_type": "execute_result"
    }
   ],
   "source": [
    "# Load a finetuned model\n",
    "PATH_TO_MODEL = \"./Traffic_Sign_Classification.pth\"\n",
    "\n",
    "model = models.resnet18()\n",
    "in_ftrs = model.fc.in_features\n",
    "model.fc = torch.nn.Linear(in_ftrs, 43)\n",
    "model.load_state_dict(torch.load(PATH_TO_MODEL))\n",
    "model.eval()"
   ]
  },
  {
   "cell_type": "code",
   "execution_count": 28,
   "metadata": {},
   "outputs": [],
   "source": [
    "# Data transformation\n",
    "import torchvision.transforms as transforms\n",
    "preprocess = transforms.Compose(\n",
    "    [transforms.Resize([112, 112]),\n",
    "    transforms.ToTensor()]\n",
    ")\n",
    "\n",
    "# Load GTSRB Data\n",
    "BATCH_SIZE = 1\n",
    "\n",
    "train_set = torchvision.datasets.ImageFolder(root=\"./GTSRB/Train\", transform=preprocess)\n",
    "\n",
    "# Divide data into training and validation (0.8 and 0.2)\n",
    "ratio = 0.8\n",
    "n_train_examples = int(len(train_set) * ratio)\n",
    "n_val_examples = len(train_set) - n_train_examples\n",
    "gtsrb_train_data, val_data = data.random_split(train_set, [n_train_examples, n_val_examples])\n",
    "train_loader = data.DataLoader(gtsrb_train_data, shuffle=True, batch_size = BATCH_SIZE)\n",
    "val_loader = data.DataLoader(val_data, shuffle=True, batch_size = BATCH_SIZE)"
   ]
  },
  {
   "cell_type": "markdown",
   "metadata": {},
   "source": [
    "# Generate Patch"
   ]
  },
  {
   "cell_type": "code",
   "execution_count": 29,
   "metadata": {},
   "outputs": [],
   "source": [
    "LR = 1.0\n",
    "EPOCHS = 5\n",
    "THRESHOLD=0.9\n",
    "MAX_ITER=100\n",
    "TARGET=35 # Go Straight Traffic Sign\n",
    "\n",
    "# Initialize the patch\n",
    "IMG_SIZE=(3, 112, 112)\n",
    "NOISE_RATIO=0.2\n",
    "MASK_SIZE = int((NOISE_RATIO * IMG_SIZE[1] * IMG_SIZE[2])**0.5)\n",
    "\n",
    "patch = np.random.rand(IMG_SIZE[0], MASK_SIZE, MASK_SIZE)"
   ]
  },
  {
   "cell_type": "code",
   "execution_count": 30,
   "metadata": {},
   "outputs": [
    {
     "name": "stdout",
     "output_type": "stream",
     "text": [
      "Patch saved at ./Patch.png\n",
      "\n",
      "Epoch-0: Success Rate = 98.8776 , Time = 1417.05 seconds\n",
      "Epoch-1: Success Rate = 98.9413 , Time = 1415.55 seconds\n",
      "Epoch-2: Success Rate = 98.9541 , Time = 1409.37 seconds\n",
      "Epoch-3: Success Rate = 98.9923 , Time = 1410.80 seconds\n",
      "Epoch-4: Success Rate = 98.9668 , Time = 1406.13 seconds\n"
     ]
    },
    {
     "data": {
      "image/png": "[encoded data removed]",
      "text/plain": [
       "<Figure size 640x480 with 1 Axes>"
      ]
     },
     "metadata": {},
     "output_type": "display_data"
    }
   ],
   "source": [
    "# Path to save Patch\n",
    "PATH_TO_PATCH = \"./Patch.png\"\n",
    "best_acc = 0.0\n",
    "\n",
    "print(\"Patch saved at \"+PATH_TO_PATCH)\n",
    "print('')\n",
    "\n",
    "for epoch in range(EPOCHS):\n",
    "    print(f\"Epoch-{epoch}: \",end='')\n",
    "    start_time = time.monotonic()\n",
    "\n",
    "    # Train the patch\n",
    "    for images,labels in train_loader:\n",
    "        outputs = model(images)\n",
    "        _, preds = torch.max(outputs, dim=1)\n",
    "        if preds[0] != labels[0] or preds[0].data.numpy() == TARGET: continue # only train on images that were originally classified successly\n",
    "        \n",
    "        # Apply the patch\n",
    "        extended_patch = np.zeros(IMG_SIZE)\n",
    "        x_loc, y_loc = np.random.randint(low=0, high=IMG_SIZE[1]-patch.shape[1]), np.random.randint(low=0, high=IMG_SIZE[2]-patch.shape[2]) # random patch location\n",
    "        for i in range(patch.shape[0]):\n",
    "            extended_patch[:, x_loc:x_loc + patch.shape[1], y_loc:y_loc + patch.shape[2]] = patch\n",
    "        mask = extended_patch.copy()\n",
    "        mask[mask != 0] = 1.0\n",
    "        extended_patch = torch.from_numpy(extended_patch)\n",
    "        mask = torch.from_numpy(mask)\n",
    "        patched_images = torch.mul(mask.type(torch.FloatTensor), extended_patch.type(torch.FloatTensor)) + torch.mul((1 - mask.type(torch.FloatTensor)), images.type(torch.FloatTensor))\n",
    "\n",
    "\n",
    "        # Optimize the patch\n",
    "        patched_images = Variable(patched_images.data, requires_grad=True)\n",
    "        output = model(patched_images)\n",
    "        loss= -torch.nn.functional.log_softmax(output, dim=1)[0][TARGET]\n",
    "        loss.backward()\n",
    "        patch_grad = patched_images.grad.clone()\n",
    "        patched_images.grad.data.zero_()\n",
    "        extended_patch = extended_patch.type(torch.FloatTensor) - LR * patch_grad\n",
    "        extended_patch = torch.clamp(extended_patch, min=-3, max=3)\n",
    "        extended_patch = extended_patch.numpy()\n",
    "        patch = extended_patch[0][:, x_loc:x_loc + patch.shape[1], y_loc:y_loc + patch.shape[2]]\n",
    "\n",
    "        \n",
    "    # Evaluate the patch\n",
    "    success,total=0,0\n",
    "    with torch.no_grad():\n",
    "        for images,labels in val_loader:\n",
    "            outputs = model(images)\n",
    "            _, preds = torch.max(outputs, dim=1)\n",
    "            # only evaluate on images that were originally classified successly\n",
    "            if preds[0] != labels[0]: continue\n",
    "            total+=1\n",
    "             # Apply the patch\n",
    "            extended_patch = np.zeros(IMG_SIZE)\n",
    "            x_loc, y_loc = np.random.randint(low=0, high=IMG_SIZE[1]-patch.shape[1]), np.random.randint(low=0, high=IMG_SIZE[2]-patch.shape[2]) # random patch location\n",
    "            for i in range(patch.shape[0]):\n",
    "                extended_patch[:, x_loc:x_loc + patch.shape[1], y_loc:y_loc + patch.shape[2]] = patch\n",
    "            mask = extended_patch.copy()\n",
    "            mask[mask != 0] = 1.0\n",
    "            extended_patch = torch.from_numpy(extended_patch)\n",
    "            mask = torch.from_numpy(mask)\n",
    "            patched_images = torch.mul(mask.type(torch.FloatTensor), extended_patch.type(torch.FloatTensor)) + torch.mul((1 - mask.type(torch.FloatTensor)), images.type(torch.FloatTensor))\n",
    "\n",
    "            patched_outputs = model(patched_images)\n",
    "            _, patched_preds = torch.max(patched_outputs, dim=1)\n",
    "            if preds[0].data.numpy() != TARGET and patched_preds[0].data.numpy() == TARGET: success += 1\n",
    "    end_time = time.monotonic()\n",
    "    acc = 100 * success / total\n",
    "    print(\"Success Rate = %.4f , Time = %.2f seconds\" % (acc, end_time - start_time))\n",
    "    if acc > best_acc:\n",
    "        best_acc = acc\n",
    "        plt.imshow(np.clip(np.transpose(patch, (1, 2, 0)), 0, 1))\n",
    "        plt.savefig(PATH_TO_PATCH)"
   ]
  }
 ],
 "metadata": {
  "kernelspec": {
   "display_name": "base",
   "language": "python",
   "name": "python3"
  },
  "language_info": {
   "codemirror_mode": {
    "name": "ipython",
    "version": 3
   },
   "file_extension": ".py",
   "mimetype": "text/x-python",
   "name": "python",
   "nbconvert_exporter": "python",
   "pygments_lexer": "ipython3",
   "version": "3.9.13"
  },
  "orig_nbformat": 4
 },
 "nbformat": 4,
 "nbformat_minor": 2
}
